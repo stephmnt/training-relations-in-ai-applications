{
 "cells": [
  {
   "metadata": {},
   "cell_type": "markdown",
   "source": [
    "# Applications IA en formation\n",
    "\n",
    "Dans cette exploration des données, nous cherchons à analyser les différentes relations présentes dans le jeu de données, et à explorer leur distribution à l'aide de diagrammes et de statistiques descriptives."
   ],
   "id": "8a77807f92f26ee"
  },
  {
   "metadata": {},
   "cell_type": "markdown",
   "source": [
    "## Étape 1 : Chargement des données\n",
    "Dans cette première étape, nous allons charger les données et observer leur structure pour mieux comprendre les colonnes disponibles."
   ],
   "id": "8f1da6f88396572f"
  },
  {
   "metadata": {
    "ExecuteTime": {
     "end_time": "2024-10-13T16:20:48.678983Z",
     "start_time": "2024-10-13T16:20:48.640325Z"
    }
   },
   "cell_type": "code",
   "source": [
    "# Import libraries\n",
    "import pandas as pd\n",
    "import numpy as np\n",
    "import matplotlib.pyplot as plt\n",
    "import seaborn as sns\n",
    "\n",
    "file_path = 'applis-ia.csv'\n",
    "\n",
    "# Load the CSV, handling multiline fields and quote character\n",
    "data = pd.read_csv(file_path, delimiter=',', quotechar='\"')\n",
    "\n",
    "# Take a look\n",
    "data.head()\n"
   ],
   "id": "7df9140457caed5e",
   "outputs": [
    {
     "data": {
      "text/plain": [
       "             Nom                                             résumé  \\\n",
       "0        ChatGPT   L'IA conversationnelle référence pour trouver...   \n",
       "1     MidJourney  L'IA d'imagerie de référence. Décrivez le visu...   \n",
       "2     LLaMa Chat                             Le ChatGPT de Facebook   \n",
       "3    Automorphic  Plateforme axée sur la protection de la vie pr...   \n",
       "4  Stable Doodle                                                NaN   \n",
       "\n",
       "                             relation  \n",
       "0  A1, A2, A3, B1, B2, B3, C1, C2, C3  \n",
       "1                      A1, A3, B2, B3  \n",
       "2                  A1, A3, B1, B2, B3  \n",
       "3                                  C1  \n",
       "4                                  C1  "
      ],
      "text/html": [
       "<div>\n",
       "<style scoped>\n",
       "    .dataframe tbody tr th:only-of-type {\n",
       "        vertical-align: middle;\n",
       "    }\n",
       "\n",
       "    .dataframe tbody tr th {\n",
       "        vertical-align: top;\n",
       "    }\n",
       "\n",
       "    .dataframe thead th {\n",
       "        text-align: right;\n",
       "    }\n",
       "</style>\n",
       "<table border=\"1\" class=\"dataframe\">\n",
       "  <thead>\n",
       "    <tr style=\"text-align: right;\">\n",
       "      <th></th>\n",
       "      <th>Nom</th>\n",
       "      <th>résumé</th>\n",
       "      <th>relation</th>\n",
       "    </tr>\n",
       "  </thead>\n",
       "  <tbody>\n",
       "    <tr>\n",
       "      <th>0</th>\n",
       "      <td>ChatGPT</td>\n",
       "      <td>L'IA conversationnelle référence pour trouver...</td>\n",
       "      <td>A1, A2, A3, B1, B2, B3, C1, C2, C3</td>\n",
       "    </tr>\n",
       "    <tr>\n",
       "      <th>1</th>\n",
       "      <td>MidJourney</td>\n",
       "      <td>L'IA d'imagerie de référence. Décrivez le visu...</td>\n",
       "      <td>A1, A3, B2, B3</td>\n",
       "    </tr>\n",
       "    <tr>\n",
       "      <th>2</th>\n",
       "      <td>LLaMa Chat</td>\n",
       "      <td>Le ChatGPT de Facebook</td>\n",
       "      <td>A1, A3, B1, B2, B3</td>\n",
       "    </tr>\n",
       "    <tr>\n",
       "      <th>3</th>\n",
       "      <td>Automorphic</td>\n",
       "      <td>Plateforme axée sur la protection de la vie pr...</td>\n",
       "      <td>C1</td>\n",
       "    </tr>\n",
       "    <tr>\n",
       "      <th>4</th>\n",
       "      <td>Stable Doodle</td>\n",
       "      <td>NaN</td>\n",
       "      <td>C1</td>\n",
       "    </tr>\n",
       "  </tbody>\n",
       "</table>\n",
       "</div>"
      ]
     },
     "execution_count": 195,
     "metadata": {},
     "output_type": "execute_result"
    }
   ],
   "execution_count": 195
  },
  {
   "metadata": {},
   "cell_type": "markdown",
   "source": [
    "## Étape 2 : Nettoyage des données\n",
    "Ici, nous nettoyons les données en supprimant les colonnes inutiles, puis nous filtrons les lignes en fonction des relations spécifiques que nous souhaitons analyser.\n"
   ],
   "id": "cf4afe2a4c94a57b"
  },
  {
   "metadata": {
    "ExecuteTime": {
     "end_time": "2024-10-13T16:20:48.745867Z",
     "start_time": "2024-10-13T16:20:48.723546Z"
    }
   },
   "cell_type": "code",
   "source": [
    "# Remove useless column\n",
    "data_cleaned = data.drop(columns=['résumé'])\n",
    "\n",
    "# Count the total number of rows\n",
    "total_rows = len(data_cleaned)\n",
    "\n",
    "# Count rows where \"relation\" column contains only \"C1\"\n",
    "rows_with_only_C1 = data_cleaned[data_cleaned['relation'].str.strip() == 'C1']\n",
    "count_only_C1 = len(rows_with_only_C1)\n",
    "\n",
    "# Count rows where \"relation\" column contains only \"C3\"\n",
    "rows_with_only_C3 = data_cleaned[data_cleaned['relation'].str.strip() == 'C3']\n",
    "count_only_C3 = len(rows_with_only_C3)\n",
    "\n",
    "# Remove rows where \"relation\" contains only \"C1\", only \"C2\" or only \"C3\"\n",
    "filtered_data = data_cleaned[~data_cleaned['relation'].str.strip().isin(['C1', 'C2', 'C3'])]\n",
    "\n",
    "filtered_data.head()"
   ],
   "id": "4a5971c010c2f8e",
   "outputs": [
    {
     "data": {
      "text/plain": [
       "            Nom                            relation\n",
       "0       ChatGPT  A1, A2, A3, B1, B2, B3, C1, C2, C3\n",
       "1    MidJourney                      A1, A3, B2, B3\n",
       "2    LLaMa Chat                  A1, A3, B1, B2, B3\n",
       "5  AI Companion                                  A1\n",
       "7        Heygen                                  A3"
      ],
      "text/html": [
       "<div>\n",
       "<style scoped>\n",
       "    .dataframe tbody tr th:only-of-type {\n",
       "        vertical-align: middle;\n",
       "    }\n",
       "\n",
       "    .dataframe tbody tr th {\n",
       "        vertical-align: top;\n",
       "    }\n",
       "\n",
       "    .dataframe thead th {\n",
       "        text-align: right;\n",
       "    }\n",
       "</style>\n",
       "<table border=\"1\" class=\"dataframe\">\n",
       "  <thead>\n",
       "    <tr style=\"text-align: right;\">\n",
       "      <th></th>\n",
       "      <th>Nom</th>\n",
       "      <th>relation</th>\n",
       "    </tr>\n",
       "  </thead>\n",
       "  <tbody>\n",
       "    <tr>\n",
       "      <th>0</th>\n",
       "      <td>ChatGPT</td>\n",
       "      <td>A1, A2, A3, B1, B2, B3, C1, C2, C3</td>\n",
       "    </tr>\n",
       "    <tr>\n",
       "      <th>1</th>\n",
       "      <td>MidJourney</td>\n",
       "      <td>A1, A3, B2, B3</td>\n",
       "    </tr>\n",
       "    <tr>\n",
       "      <th>2</th>\n",
       "      <td>LLaMa Chat</td>\n",
       "      <td>A1, A3, B1, B2, B3</td>\n",
       "    </tr>\n",
       "    <tr>\n",
       "      <th>5</th>\n",
       "      <td>AI Companion</td>\n",
       "      <td>A1</td>\n",
       "    </tr>\n",
       "    <tr>\n",
       "      <th>7</th>\n",
       "      <td>Heygen</td>\n",
       "      <td>A3</td>\n",
       "    </tr>\n",
       "  </tbody>\n",
       "</table>\n",
       "</div>"
      ]
     },
     "execution_count": 196,
     "metadata": {},
     "output_type": "execute_result"
    }
   ],
   "execution_count": 196
  },
  {
   "metadata": {},
   "cell_type": "markdown",
   "source": [
    "## Étape 3 : Comptage des occurrences des relations\n",
    "Nous allons séparer les relations multiples dans la colonne `relation`, puis compter combien de fois chaque relation (A1, A2, A3, B1, B2, B3) apparaît."
   ],
   "id": "366a7e8e259748b0"
  },
  {
   "metadata": {
    "ExecuteTime": {
     "end_time": "2024-10-13T16:20:48.842517Z",
     "start_time": "2024-10-13T16:20:48.821260Z"
    }
   },
   "cell_type": "code",
   "source": [
    "# Split the 'relation' column by commas to get individual relations\n",
    "filtered_data = filtered_data.copy()  # Make an explicit copy to avoid SettingWithCopyWarning\n",
    "filtered_data['relation'] = filtered_data['relation'].str.split(', ')\n",
    "\n",
    "# Explode the list to have each relation as a separate row\n",
    "exploded_data = filtered_data.explode('relation')\n",
    "\n",
    "# Clean spaces around relations\n",
    "exploded_data['relation'] = exploded_data['relation'].str.strip()\n",
    "\n",
    "# Focus on valid relations\n",
    "valid_relations = ['A1', 'A2', 'A3', 'B1', 'B2', 'B3']\n",
    "exploded_data = exploded_data[exploded_data['relation'].isin(valid_relations)]\n",
    "\n",
    "# Count occurrences number for any relation\n",
    "relation_counts = exploded_data['relation'].value_counts()\n",
    "print(relation_counts)\n",
    "\n",
    "# Describe stats\n",
    "basic_stats = relation_counts.describe()\n",
    "print(basic_stats)\n",
    "\n",
    "# Add IQR (Interquartile range)\n",
    "iqr = basic_stats['75%'] - basic_stats['25%']\n",
    "print(f\"IQR: {iqr}\")\n",
    "\n",
    "# Calculate Skewness (Asymétrie) et Kurtosis (Aplatissement)\n",
    "skewness = relation_counts.skew()\n",
    "kurtosis = relation_counts.kurtosis()\n",
    "\n",
    "# Display results\n",
    "print(f\"Skewness: {skewness}\")\n",
    "print(f\"Kurtosis: {kurtosis}\")"
   ],
   "id": "45b2af22b9d68766",
   "outputs": [
    {
     "name": "stdout",
     "output_type": "stream",
     "text": [
      "relation\n",
      "A3    106\n",
      "A1     74\n",
      "A2     43\n",
      "B3     27\n",
      "B1     26\n",
      "B2     20\n",
      "Name: count, dtype: int64\n",
      "count      6.000000\n",
      "mean      49.333333\n",
      "std       33.950945\n",
      "min       20.000000\n",
      "25%       26.250000\n",
      "50%       35.000000\n",
      "75%       66.250000\n",
      "max      106.000000\n",
      "Name: count, dtype: float64\n",
      "IQR: 40.0\n",
      "Skewness: 1.131757412246252\n",
      "Kurtosis: 0.05571519892849519\n"
     ]
    }
   ],
   "execution_count": 197
  },
  {
   "metadata": {},
   "cell_type": "markdown",
   "source": [
    "## Étape 4 : Boîte à moustaches des fréquences des relations\n",
    "Nous allons représenter la distribution des fréquences des relations à l'aide d'une boîte à moustaches et ajouter des annotations pour indiquer la moyenne, la médiane, et les quartiles."
   ],
   "id": "758987df30ec8f8f"
  },
  {
   "metadata": {
    "ExecuteTime": {
     "end_time": "2024-10-13T16:20:49.073460Z",
     "start_time": "2024-10-13T16:20:48.929371Z"
    }
   },
   "cell_type": "code",
   "source": [
    "# Create a bar plot for the relation occurrences\n",
    "plt.figure(figsize=(10, 6))\n",
    "\n",
    "# Plot the histogram of the relation frequencies\n",
    "relation_counts.plot(kind='bar', color='skyblue')\n",
    "\n",
    "# Add labels (please note titles will be shown in the article body)\n",
    "plt.xlabel('Relation type')\n",
    "plt.ylabel('Frequency of occurrences')\n",
    "\n",
    "# Display the plot\n",
    "plt.grid(axis='y')\n",
    "plt.show()"
   ],
   "id": "a138ffecb332b75b",
   "outputs": [
    {
     "data": {
      "text/plain": [
       "<Figure size 1000x600 with 1 Axes>"
      ],
      "image/png": "[encoded data removed]"
     },
     "metadata": {},
     "output_type": "display_data"
    }
   ],
   "execution_count": 198
  },
  {
   "metadata": {},
   "cell_type": "markdown",
   "source": [
    "## Étape 5 - Boîte à moustaches des fréquences des relations\n",
    "Nous allons représenter la distribution des fréquences des relations à l'aide d'une boîte à moustaches et ajouter des annotations pour indiquer la moyenne, la médiane, et les quartiles.\n"
   ],
   "id": "3bd077b0518bb3c9"
  },
  {
   "metadata": {
    "ExecuteTime": {
     "end_time": "2024-10-13T16:20:49.257598Z",
     "start_time": "2024-10-13T16:20:49.144222Z"
    }
   },
   "cell_type": "code",
   "source": [
    "# Calculate basic statistics\n",
    "mean_val = relation_counts.mean()\n",
    "median_val = relation_counts.median()\n",
    "q1_val = relation_counts.quantile(0.25)\n",
    "q3_val = relation_counts.quantile(0.75)\n",
    "min_val = relation_counts.min()\n",
    "max_val = relation_counts.max()\n",
    "\n",
    "# Create the boxplot\n",
    "plt.figure(figsize=(10, 6))\n",
    "plt.boxplot(relation_counts.values, vert=False, patch_artist=True)\n",
    "\n",
    "# Add labels\n",
    "plt.xlabel('Frequency of occurrences')\n",
    "\n",
    "# Add grid for readability\n",
    "plt.grid(axis='x')\n",
    "\n",
    "# Annotate the plot with statistics\n",
    "plt.text(mean_val, 1.05, f'Mean: {mean_val:.2f}', ha='center', color='blue')\n",
    "plt.text(median_val, 1.1, f'Median: {median_val:.2f}', ha='center', color='green')\n",
    "plt.text(q1_val, 1.15, f'Q1: {q1_val:.2f}', ha='center', color='purple')\n",
    "plt.text(q3_val, 1.15, f'Q3: {q3_val:.2f}', ha='center', color='purple')\n",
    "plt.text(min_val, 0.9, f'Min: {min_val}', ha='center', color='red')\n",
    "plt.text(max_val, 0.9, f'Max: {max_val}', ha='center', color='red')\n",
    "\n",
    "# Show the plot\n",
    "plt.show()"
   ],
   "id": "13084ac0bbd81fcb",
   "outputs": [
    {
     "data": {
      "text/plain": [
       "<Figure size 1000x600 with 1 Axes>"
      ],
      "image/png": "[encoded data removed]"
     },
     "metadata": {},
     "output_type": "display_data"
    }
   ],
   "execution_count": 199
  },
  {
   "metadata": {},
   "cell_type": "markdown",
   "source": [
    "## Étape 6 : Matrice de co-occurrence des relations\n",
    "Enfin, nous allons créer une matrice de co-occurrence pour observer quelles relations apparaissent ensemble dans les données.\n"
   ],
   "id": "a90b5e40c7bcf73e"
  },
  {
   "metadata": {
    "ExecuteTime": {
     "end_time": "2024-10-13T16:20:49.508701Z",
     "start_time": "2024-10-13T16:20:49.277950Z"
    }
   },
   "cell_type": "code",
   "source": [
    "# List of valid relations\n",
    "relations = [\"A1\", \"A2\", \"A3\", \"B1\", \"B2\", \"B3\"]\n",
    "\n",
    "# Initialize the co-occurrence matrix with zeros\n",
    "co_occurrence_matrix = pd.DataFrame(0, index=relations, columns=relations)\n",
    "\n",
    "# Iterate over the rows of 'exploded_data' to calculate co-occurrences\n",
    "for relation_list in filtered_data['relation']:\n",
    "    for i in relation_list:\n",
    "        for j in relation_list:\n",
    "            if i != j and i in relations and j in relations:  # Exclude self-cooccurrences and ensure valid relations\n",
    "                co_occurrence_matrix.loc[i, j] += 1 \n",
    "                co_occurrence_matrix.loc[i, j] += 1\n",
    "\n",
    "# Plot a heatmap for the co-occurrence matrix\n",
    "plt.figure(figsize=(8, 6))\n",
    "sns.heatmap(co_occurrence_matrix, annot=True, cmap='coolwarm', fmt=\"d\")\n",
    "\n",
    "# Show the plot\n",
    "plt.show()"
   ],
   "id": "f5839900a1be2d26",
   "outputs": [
    {
     "data": {
      "text/plain": [
       "<Figure size 800x600 with 2 Axes>"
      ],
      "image/png": "[encoded data removed]"
     },
     "metadata": {},
     "output_type": "display_data"
    }
   ],
   "execution_count": 200
  }
 ],
 "metadata": {
  "kernelspec": {
   "display_name": "Python 3",
   "language": "python",
   "name": "python3"
  },
  "language_info": {
   "codemirror_mode": {
    "name": "ipython",
    "version": 2
   },
   "file_extension": ".py",
   "mimetype": "text/x-python",
   "name": "python",
   "nbconvert_exporter": "python",
   "pygments_lexer": "ipython2",
   "version": "2.7.6"
  }
 },
 "nbformat": 4,
 "nbformat_minor": 5
}
